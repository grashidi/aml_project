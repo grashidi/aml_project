{
 "cells": [
  {
   "cell_type": "markdown",
   "source": [
    "# Interactive DenseNet121 Notebook for computation [BETA]\n",
    "This notebook is jus beta version for all-in-one computation with less effort."
   ],
   "metadata": {}
  },
  {
   "cell_type": "markdown",
   "source": [
    "## Without ROI mask"
   ],
   "metadata": {}
  },
  {
   "cell_type": "code",
   "execution_count": null,
   "source": [
    "# Run DenseNet121 without ROI mask\n",
    "# Train and Test shall be done simultaneously\n",
    "! cd no_ROI && python main.py && cd .."
   ],
   "outputs": [],
   "metadata": {}
  },
  {
   "cell_type": "code",
   "execution_count": null,
   "source": [
    "# To see how good the results are, Gradient-weighted Class Activation Mapping (Grad-CAM) need to be runned\n",
    "# More detail available at https://github.com/ramprs/grad-cam/\n",
    "! cd no_ROI && python grad_cam.py && cd .."
   ],
   "outputs": [],
   "metadata": {}
  },
  {
   "cell_type": "markdown",
   "source": [
    "## With Region-of-Interests (ROI) mask"
   ],
   "metadata": {}
  },
  {
   "cell_type": "code",
   "execution_count": null,
   "source": [
    "# Run DenseNet121 with ROI mask\n",
    "# Train and Test shall be done simultaneously\n",
    "! cd with_ROI && python main.py && cd .."
   ],
   "outputs": [],
   "metadata": {}
  },
  {
   "cell_type": "code",
   "execution_count": null,
   "source": [
    "# To see how good the results are, Gradient-weighted Class Activation Mapping (Grad-CAM) need to be runned\n",
    "# More detail available at https://github.com/ramprs/grad-cam/\n",
    "! cd with_ROI/ && python grad_cam.py && cd .."
   ],
   "outputs": [],
   "metadata": {}
  },
  {
   "cell_type": "markdown",
   "source": [
    "## Here we can display the results (Training Set)"
   ],
   "metadata": {}
  },
  {
   "cell_type": "code",
   "execution_count": null,
   "source": [
    "# Here we take the path to our most recent statistic from our training models.\n",
    "# TODO: Please take a close look and replace <*> with your preferred path to your statistics file.\n",
    "stat_no_ROI   = \"./no_ROI/<*>.json\"\n",
    "stat_with_ROI = \"./with_ROI/<*>.json\""
   ],
   "outputs": [],
   "metadata": {}
  },
  {
   "cell_type": "markdown",
   "source": [
    "## Training Set"
   ],
   "metadata": {}
  },
  {
   "cell_type": "code",
   "execution_count": null,
   "source": [
    "# There's packages we need here\n",
    "import matplotlib.pyplot as plt\n",
    "import pandas as pd\n",
    "import numpy as np\n",
    "\n",
    "def metrics_plot(file):\n",
    "    stat_file = pd.read_json(file)\n",
    "    N = len(list(set(stat_file[\"epoch\"].tolist())))\n",
    "    \n",
    "    df1 = pd.DataFrame()\n",
    "    df2 = [ pd.DataFrame(stat_file[stat_file[\"epoch\"]==n].mean()) for n in range(N+1) ]\n",
    "    df2 = pd.concat(df2,axis=1).T[1:]\n",
    "    \n",
    "    plt.figure(dpi=120)\n",
    "    x_axis = df2[\"epoch\"]\n",
    "    for keys in [\"train_loss\",\"val_loss\"]:\n",
    "        y_axis = df2[keys]\n",
    "        plt.plot(x_axis,y_axis,\"o-\",label = keys)\n",
    "        plt.annotate(round(y_axis.iloc[0],3),xy= (x_axis.iloc[0],y_axis.iloc[0]),xytext = (x_axis.iloc[0]+0.5,y_axis.iloc[0]),\n",
    "                    arrowprops = dict(arrowstyle=\"->\",connectionstyle = \"arc3\")\n",
    "                    )\n",
    "        plt.annotate(round(y_axis.iloc[-1],3),xy= (x_axis.iloc[-1],y_axis.iloc[-1]),xytext = (x_axis.iloc[-1]+0.5,y_axis.iloc[-1]),\n",
    "                    arrowprops = dict(arrowstyle=\"->\",connectionstyle = \"arc3\")\n",
    "                    )\n",
    "    plt.legend(loc = \"upper right\")\n",
    "    plt.title(\"Loss\")\n",
    "    plt.xlabel(\"num_epoch\")\n",
    "    plt.ylabel(\"cross_entropy_loss\")\n",
    "    plt.grid(True)\n",
    "    #plt.yticks(np.arange(0,1,step=0.2))\n",
    "    plt.show()\n",
    "\n",
    "    plt.figure(dpi=120)\n",
    "    for keys in [\"precision\",\"recall\",\"accuracy\",\"AUC\",\"F1\"]:\n",
    "        y_axis = df2[keys]\n",
    "        plt.plot(x_axis,y_axis,\"o-\",label = keys)\n",
    "        plt.annotate(round(y_axis.iloc[0],3),xy= (x_axis.iloc[0],y_axis.iloc[0]),xytext = (x_axis.iloc[0]+0.5,y_axis.iloc[0]),\n",
    "                    arrowprops = dict(arrowstyle=\"->\",connectionstyle = \"arc3\")\n",
    "                    )\n",
    "        plt.annotate(round(y_axis.iloc[-1],3),xy= (x_axis.iloc[-1],y_axis.iloc[-1]),xytext = (x_axis.iloc[-1]+0.5,y_axis.iloc[-1]),\n",
    "                    arrowprops = dict(arrowstyle=\"->\",connectionstyle = \"arc3\")\n",
    "                    )\n",
    "    plt.legend(loc = \"lower right\")\n",
    "    plt.title(\"Performance metric\")\n",
    "    plt.xlabel(\"num_epoch\")\n",
    "    plt.ylabel(\"metric\")\n",
    "    plt.ylim(0,1.1)\n",
    "    plt.grid(True)\n",
    "    #plt.yticks(np.arange(0,1,step=0.2))\n",
    "    plt.show()"
   ],
   "outputs": [],
   "metadata": {}
  },
  {
   "cell_type": "markdown",
   "source": [
    "### Here's training results for without ROI scenario"
   ],
   "metadata": {}
  },
  {
   "cell_type": "code",
   "execution_count": null,
   "source": [
    "metrics_plot(stat_no_ROI)"
   ],
   "outputs": [],
   "metadata": {}
  },
  {
   "cell_type": "markdown",
   "source": [
    "### Here's training results for with ROI scenario - Masks are overlaid on X-Ray/CT-Scan Images"
   ],
   "metadata": {}
  },
  {
   "cell_type": "code",
   "execution_count": null,
   "source": [
    "metrics_plot(stat_with_ROI)"
   ],
   "outputs": [],
   "metadata": {}
  },
  {
   "cell_type": "markdown",
   "source": [
    "### You can also set your path to specific file here to retrieve proper results."
   ],
   "metadata": {}
  },
  {
   "cell_type": "code",
   "execution_count": null,
   "source": [
    "file = \"with_ROI/model_backup/archive/stats_densenet121_e10_bs10_19-09-2021_10:44:39.json\"\n",
    "metrics_plot(file)"
   ],
   "outputs": [],
   "metadata": {}
  },
  {
   "cell_type": "markdown",
   "source": [
    "## Test Set"
   ],
   "metadata": {}
  },
  {
   "cell_type": "code",
   "execution_count": null,
   "source": [
    "# There's packages we need here\n",
    "import matplotlib.pyplot as plt\n",
    "import pandas as pd\n",
    "import numpy as np\n",
    "# Here we take the path to our most recent statistic from our training models\n",
    "# TODO: Please take a close look and replace <*> with your preferred path to your statistics file.\n",
    "# TODO: Remember that results on test set always have `_test` suffix. \n",
    "stat_no_ROI_test   = \"no_ROI/model_backup/stats_densenet121_e10_bs10_21-09-2021_01:58:47_test.json\"\n",
    "stat_with_ROI_test = \"with_ROI/model_backup/stats_densenet121_e10_bs10_21-09-2021_08:05:29_test.json\"\n",
    "\n",
    "def barchart_metrics(file):\n",
    "    df = pd.read_json(file)\n",
    "\n",
    "    metrics = [\"test_loss\",\"precision\",\"recall\",\"accuracy\",\"AUC\",\"F1\"]\n",
    "    plt.figure(dpi=120)\n",
    "    x_axis = metrics\n",
    "    y_axis = [df[keys].mean() for keys in metrics]\n",
    "    c = [\"tab:cyan\",\"tab:blue\",\"tab:orange\",\"tab:green\",\"tab:red\",\"tab:purple\"]\n",
    "    barlist = plt.bar(x_axis,y_axis,width=0.5)\n",
    "    for i in range(len(metrics)):\n",
    "        barlist[i].set_color(c[i])\n",
    "    for bar in barlist.patches:\n",
    "        plt.annotate(format(bar.get_height(), '.4f'),\n",
    "                    (bar.get_x() + bar.get_width() / 2,\n",
    "                        bar.get_height()), ha='center', va='center',\n",
    "                    size=10, xytext=(0, 8),\n",
    "                    textcoords='offset points')\n",
    "    plt.xticks(rotation = 90)\n",
    "    plt.ylabel(\"metric\")\n",
    "    plt.ylim(0,1.1)\n",
    "    plt.title(\"Test results\")\n",
    "    plt.show()\n",
    "    "
   ],
   "outputs": [],
   "metadata": {}
  },
  {
   "cell_type": "markdown",
   "source": [
    "### Here's training results for without ROI scenario"
   ],
   "metadata": {}
  },
  {
   "cell_type": "code",
   "execution_count": null,
   "source": [
    "barchart_metrics(stat_no_ROI_test)"
   ],
   "outputs": [],
   "metadata": {}
  },
  {
   "cell_type": "markdown",
   "source": [
    "### Here's training results for with ROI scenario - Masks are overlaid on X-Ray/CT-Scan Images"
   ],
   "metadata": {}
  },
  {
   "cell_type": "code",
   "execution_count": null,
   "source": [
    "barchart_metrics(stat_with_ROI_test)"
   ],
   "outputs": [],
   "metadata": {}
  },
  {
   "cell_type": "markdown",
   "source": [
    "### You can also set your path to specific file here to retrieve proper results."
   ],
   "metadata": {}
  },
  {
   "cell_type": "code",
   "execution_count": null,
   "source": [
    "file = \"with_ROI/model_backup/stats_densenet121_e10_bs10_21-09-2021_10:57:15_test.json\"\n",
    "barchart_metrics(file)"
   ],
   "outputs": [],
   "metadata": {}
  }
 ],
 "metadata": {
  "orig_nbformat": 4,
  "language_info": {
   "name": "python",
   "version": "3.8.11",
   "mimetype": "text/x-python",
   "codemirror_mode": {
    "name": "ipython",
    "version": 3
   },
   "pygments_lexer": "ipython3",
   "nbconvert_exporter": "python",
   "file_extension": ".py"
  },
  "kernelspec": {
   "name": "python3",
   "display_name": "Python 3.8.11 64-bit ('base': conda)"
  },
  "interpreter": {
   "hash": "19a1ed34ad81e3b6c0cce9835184af7b1fabfe02c49492686006d87779355413"
  }
 },
 "nbformat": 4,
 "nbformat_minor": 2
}